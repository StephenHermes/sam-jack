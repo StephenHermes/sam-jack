{
 "cells": [
  {
   "cell_type": "markdown",
   "metadata": {},
   "source": [
    "# ML: Movie Learning\n",
    "\n",
    "We're going to do some form of movie text wrangling using Python. At this point, we have aquired a list of movie titles, along with some other data scraped from Wikipedia. Unfortunately, these other data are inconsistently formatted and will be a bit difficult to work with. Since we want to get plot synopses from the OMDb API anyway, we can get these other data of interest from here as well.\n",
    "\n",
    "\n",
    "\n",
    "## 1. Data Collection\n",
    "\n",
    "### 1.1. The OMDb API\n",
    "\n",
    "We're going to use the OMDb API, which is free once again (http://www.omdbapi.com/). To use it, you need to get an API key. You can get a free key, which limits to 1000 requests per day. More requests (and a poster API) are avilable if you patronize the OMDb Patreon. The OMDb website explains how the API works pretty well. We'll use the `requests` package to make calls to the OMDb API. \n",
    "\n",
    "There are two ways we can get movie data using this API, either by movie title or IMDb ID. We'll want to be able to handle either, as I have a feeling that it will be easier to get a random list of IMDb ID's than a random list of movie titles? It is also more exact to use ID's since movie titles aren't unique (e.g.,\"The Mummy\" can either refer to the Brendan Fraser masterpiece, or the Tom Cruise dumpster fire).\n",
    "\n",
    "Note, I'm using format strings (`f'some {text}'`) which is a Python 3.6 feature (equivalent to `'some {}.format(text)'`). If you want to run this on 3.5 or something, uh change it all by hand."
   ]
  },
  {
   "cell_type": "code",
   "execution_count": 1,
   "metadata": {},
   "outputs": [
    {
     "data": {
      "text/plain": [
       "True"
      ]
     },
     "execution_count": 1,
     "metadata": {},
     "output_type": "execute_result"
    }
   ],
   "source": [
    "import os\n",
    "import json\n",
    "\n",
    "import requests\n",
    "\n",
    "from dotenv import load_dotenv, find_dotenv\n",
    "#find .env automagically by walking up directories until it's found\n",
    "dotenv_path = find_dotenv()\n",
    "# load up the entries as environment variables\n",
    "load_dotenv(dotenv_path)"
   ]
  },
  {
   "cell_type": "code",
   "execution_count": 6,
   "metadata": {},
   "outputs": [],
   "source": [
    "API_KEY = os.environ.get('OMDB_API_KEY')\n",
    "\n",
    "def get_movie_data(name, year=None, api_key=API_KEY, full_plot=False):\n",
    "    \"\"\"Returns json from OMDb API for movie.\"\"\"\n",
    "    api_url = f'http://private.omdbapi.com/?apikey={api_key}'\n",
    "    # There are actually utilities that can automatically escape invalid characters\n",
    "    # but here we do the manual dumb solution\n",
    "    name = name.lower().replace(' ', '+')\n",
    "    \n",
    "    # Can either manually extend the url with parameters or...\n",
    "    #api_url += f'&t={name}'\n",
    "    # if year is not None:\n",
    "    #     api_url += f'&y={year}'\n",
    "    # if full_plot:\n",
    "    #     api_url += '&plot=full'\n",
    "    # response = requests.get(api_url)\n",
    "    \n",
    "    # ... have `requests` do it for you!\n",
    "    body = {'t': name}\n",
    "    if year is not None:\n",
    "        body['y'] = year\n",
    "    if full_plot:\n",
    "        body['plot'] = 'full'\n",
    "    response = requests.get(api_url, params=body)\n",
    "    \n",
    "    # Throw error if API call has an error\n",
    "    if response.status_code != 200:\n",
    "        raise requests.HTTPError(\n",
    "            f'Couldn\\'t call API. Error {response.status_code}.'\n",
    "        )\n",
    "     \n",
    "    # Throw error if movie not found\n",
    "    # if response.json()['Response'] == 'False':\n",
    "    #     raise ValueError(response.json()['Error'])\n",
    "    \n",
    "    return response.json()"
   ]
  },
  {
   "cell_type": "markdown",
   "metadata": {},
   "source": [
    "Let's test it out, and see what kind of information we get from our request."
   ]
  },
  {
   "cell_type": "code",
   "execution_count": 7,
   "metadata": {},
   "outputs": [
    {
     "name": "stdout",
     "output_type": "stream",
     "text": [
      "{\n",
      "    \"Title\": \"Snakes on a Plane\",\n",
      "    \"Year\": \"2006\",\n",
      "    \"Rated\": \"R\",\n",
      "    \"Released\": \"18 Aug 2006\",\n",
      "    \"Runtime\": \"105 min\",\n",
      "    \"Genre\": \"Action, Adventure, Crime, Thriller\",\n",
      "    \"Director\": \"David R. Ellis\",\n",
      "    \"Writer\": \"John Heffernan (screenplay), Sebastian Gutierrez (screenplay), David Dalessandro (story), John Heffernan (story)\",\n",
      "    \"Actors\": \"Samuel L. Jackson, Julianna Margulies, Nathan Phillips, Rachel Blanchard\",\n",
      "    \"Plot\": \"An F.B.I. Agent takes on a plane full of deadly venomous snakes, deliberately released to kill a witness being flown from Honolulu to Los Angeles to testify against a mob boss.\",\n",
      "    \"Language\": \"English\",\n",
      "    \"Country\": \"Germany, USA, Canada\",\n",
      "    \"Awards\": \"3 wins & 7 nominations.\",\n",
      "    \"Poster\": \"https://m.media-amazon.com/images/M/MV5BZDY3ODM2YTgtYTU5NC00MTE4LTkzNjktMzNhZWZmMzJjMWRjXkEyXkFqcGdeQXVyMTQxNzMzNDI@._V1_SX300.jpg\",\n",
      "    \"Ratings\": [\n",
      "        {\n",
      "            \"Source\": \"Internet Movie Database\",\n",
      "            \"Value\": \"5.5/10\"\n",
      "        },\n",
      "        {\n",
      "            \"Source\": \"Rotten Tomatoes\",\n",
      "            \"Value\": \"69%\"\n",
      "        },\n",
      "        {\n",
      "            \"Source\": \"Metacritic\",\n",
      "            \"Value\": \"58/100\"\n",
      "        }\n",
      "    ],\n",
      "    \"Metascore\": \"58\",\n",
      "    \"imdbRating\": \"5.5\",\n",
      "    \"imdbVotes\": \"124,133\",\n",
      "    \"imdbID\": \"tt0417148\",\n",
      "    \"Type\": \"movie\",\n",
      "    \"DVD\": \"02 Jan 2007\",\n",
      "    \"BoxOffice\": \"$33,886,034\",\n",
      "    \"Production\": \"New Line Cinema\",\n",
      "    \"Website\": \"http://www.snakesonaplane.com/\",\n",
      "    \"Response\": \"True\"\n",
      "}\n"
     ]
    }
   ],
   "source": [
    "response_json = get_movie_data('Snakes on a Plane')\n",
    "print(json.dumps(response_json, indent=4))"
   ]
  },
  {
   "cell_type": "code",
   "execution_count": 8,
   "metadata": {},
   "outputs": [
    {
     "name": "stdout",
     "output_type": "stream",
     "text": [
      "{\n",
      "    \"Title\": \"Snakes on a Plane\",\n",
      "    \"Year\": \"2006\",\n",
      "    \"Rated\": \"R\",\n",
      "    \"Released\": \"18 Aug 2006\",\n",
      "    \"Runtime\": \"105 min\",\n",
      "    \"Genre\": \"Action, Adventure, Crime, Thriller\",\n",
      "    \"Director\": \"David R. Ellis\",\n",
      "    \"Writer\": \"John Heffernan (screenplay), Sebastian Gutierrez (screenplay), David Dalessandro (story), John Heffernan (story)\",\n",
      "    \"Actors\": \"Samuel L. Jackson, Julianna Margulies, Nathan Phillips, Rachel Blanchard\",\n",
      "    \"Plot\": \"An F.B.I. Agent takes on a plane full of deadly venomous snakes, deliberately released to kill a witness being flown from Honolulu to Los Angeles to testify against a mob boss.\",\n",
      "    \"Language\": \"English\",\n",
      "    \"Country\": \"Germany, USA, Canada\",\n",
      "    \"Awards\": \"3 wins & 7 nominations.\",\n",
      "    \"Poster\": \"https://m.media-amazon.com/images/M/MV5BZDY3ODM2YTgtYTU5NC00MTE4LTkzNjktMzNhZWZmMzJjMWRjXkEyXkFqcGdeQXVyMTQxNzMzNDI@._V1_SX300.jpg\",\n",
      "    \"Ratings\": [\n",
      "        {\n",
      "            \"Source\": \"Internet Movie Database\",\n",
      "            \"Value\": \"5.5/10\"\n",
      "        },\n",
      "        {\n",
      "            \"Source\": \"Rotten Tomatoes\",\n",
      "            \"Value\": \"69%\"\n",
      "        },\n",
      "        {\n",
      "            \"Source\": \"Metacritic\",\n",
      "            \"Value\": \"58/100\"\n",
      "        }\n",
      "    ],\n",
      "    \"Metascore\": \"58\",\n",
      "    \"imdbRating\": \"5.5\",\n",
      "    \"imdbVotes\": \"124,133\",\n",
      "    \"imdbID\": \"tt0417148\",\n",
      "    \"Type\": \"movie\",\n",
      "    \"DVD\": \"02 Jan 2007\",\n",
      "    \"BoxOffice\": \"$33,886,034\",\n",
      "    \"Production\": \"New Line Cinema\",\n",
      "    \"Website\": \"http://www.snakesonaplane.com/\",\n",
      "    \"Response\": \"True\"\n",
      "}\n"
     ]
    }
   ],
   "source": [
    "# With year provided\n",
    "response_json = get_movie_data('Snakes on a Plane', year=2006)\n",
    "print(json.dumps(response_json, indent=4))"
   ]
  },
  {
   "cell_type": "code",
   "execution_count": 9,
   "metadata": {},
   "outputs": [
    {
     "name": "stdout",
     "output_type": "stream",
     "text": [
      "{\n",
      "    \"Response\": \"False\",\n",
      "    \"Error\": \"Movie not found!\"\n",
      "}\n"
     ]
    }
   ],
   "source": [
    "# With incorrect year provided\n",
    "response_json = get_movie_data('Snakes on a Plane', year=2005)\n",
    "print(json.dumps(response_json, indent=4))"
   ]
  },
  {
   "cell_type": "code",
   "execution_count": 10,
   "metadata": {},
   "outputs": [
    {
     "name": "stdout",
     "output_type": "stream",
     "text": [
      "{\n",
      "    \"Title\": \"Snakes on a Plane\",\n",
      "    \"Year\": \"2006\",\n",
      "    \"Rated\": \"R\",\n",
      "    \"Released\": \"18 Aug 2006\",\n",
      "    \"Runtime\": \"105 min\",\n",
      "    \"Genre\": \"Action, Adventure, Crime, Thriller\",\n",
      "    \"Director\": \"David R. Ellis\",\n",
      "    \"Writer\": \"John Heffernan (screenplay), Sebastian Gutierrez (screenplay), David Dalessandro (story), John Heffernan (story)\",\n",
      "    \"Actors\": \"Samuel L. Jackson, Julianna Margulies, Nathan Phillips, Rachel Blanchard\",\n",
      "    \"Plot\": \"While practicing motocross in Hawaii, Sean Jones witnesses the brutal murder of an important American prosecutor by the powerful mobster Eddie Kim. He is protected and persuaded by the FBI agent Neville Flynn to testify against Eddie in Los Angeles. They embark in the red-eye Flight 121 of Pacific Air, occupying the entire first-class. However, Eddie dispatches hundred of different species of snakes airborne with a time operated device in the luggage to release the snakes in the flight with the intent of crashing the plane. Neville and the passengers have to struggle with the snakes to survive.\",\n",
      "    \"Language\": \"English\",\n",
      "    \"Country\": \"Germany, USA, Canada\",\n",
      "    \"Awards\": \"3 wins & 7 nominations.\",\n",
      "    \"Poster\": \"https://m.media-amazon.com/images/M/MV5BZDY3ODM2YTgtYTU5NC00MTE4LTkzNjktMzNhZWZmMzJjMWRjXkEyXkFqcGdeQXVyMTQxNzMzNDI@._V1_SX300.jpg\",\n",
      "    \"Ratings\": [\n",
      "        {\n",
      "            \"Source\": \"Internet Movie Database\",\n",
      "            \"Value\": \"5.5/10\"\n",
      "        },\n",
      "        {\n",
      "            \"Source\": \"Rotten Tomatoes\",\n",
      "            \"Value\": \"69%\"\n",
      "        },\n",
      "        {\n",
      "            \"Source\": \"Metacritic\",\n",
      "            \"Value\": \"58/100\"\n",
      "        }\n",
      "    ],\n",
      "    \"Metascore\": \"58\",\n",
      "    \"imdbRating\": \"5.5\",\n",
      "    \"imdbVotes\": \"124,133\",\n",
      "    \"imdbID\": \"tt0417148\",\n",
      "    \"Type\": \"movie\",\n",
      "    \"DVD\": \"02 Jan 2007\",\n",
      "    \"BoxOffice\": \"$33,886,034\",\n",
      "    \"Production\": \"New Line Cinema\",\n",
      "    \"Website\": \"http://www.snakesonaplane.com/\",\n",
      "    \"Response\": \"True\"\n",
      "}\n"
     ]
    }
   ],
   "source": [
    "# With full plot:\n",
    "response_json = get_movie_data('Snakes on a Plane', full_plot=True)\n",
    "print(json.dumps(response_json, indent=4))"
   ]
  },
  {
   "cell_type": "code",
   "execution_count": 11,
   "metadata": {},
   "outputs": [
    {
     "name": "stdout",
     "output_type": "stream",
     "text": [
      "{\n",
      "    \"Title\": \"Boarding School Girls' Pajama Parade\",\n",
      "    \"Year\": \"1900\",\n",
      "    \"Rated\": \"N/A\",\n",
      "    \"Released\": \"01 Oct 1900\",\n",
      "    \"Runtime\": \"N/A\",\n",
      "    \"Genre\": \"N/A\",\n",
      "    \"Director\": \"N/A\",\n",
      "    \"Writer\": \"N/A\",\n",
      "    \"Actors\": \"N/A\",\n",
      "    \"Plot\": \"N/A\",\n",
      "    \"Language\": \"N/A\",\n",
      "    \"Country\": \"USA\",\n",
      "    \"Awards\": \"N/A\",\n",
      "    \"Poster\": \"N/A\",\n",
      "    \"Ratings\": [\n",
      "        {\n",
      "            \"Source\": \"Internet Movie Database\",\n",
      "            \"Value\": \"4.4/10\"\n",
      "        }\n",
      "    ],\n",
      "    \"Metascore\": \"N/A\",\n",
      "    \"imdbRating\": \"4.4\",\n",
      "    \"imdbVotes\": \"9\",\n",
      "    \"imdbID\": \"tt0325094\",\n",
      "    \"Type\": \"movie\",\n",
      "    \"DVD\": \"N/A\",\n",
      "    \"BoxOffice\": \"N/A\",\n",
      "    \"Production\": \"N/A\",\n",
      "    \"Website\": \"N/A\",\n",
      "    \"Response\": \"True\"\n",
      "}\n"
     ]
    }
   ],
   "source": [
    "# Film without a lot of data\n",
    "# Note you can leave out the apostrophe and OMDb will still find the film\n",
    "response_json = get_movie_data('Boarding School Girls\\' Pajama Parade', full_plot=False)\n",
    "print(json.dumps(response_json, indent=4))"
   ]
  },
  {
   "cell_type": "code",
   "execution_count": 12,
   "metadata": {},
   "outputs": [
    {
     "name": "stdout",
     "output_type": "stream",
     "text": [
      "{\n",
      "    \"Response\": \"False\",\n",
      "    \"Error\": \"Movie not found!\"\n",
      "}\n"
     ]
    }
   ],
   "source": [
    "# Nonsense film that doesn't exist\n",
    "response_json = get_movie_data('Phantom of the cheese cake')\n",
    "print(json.dumps(response_json, indent=4))"
   ]
  },
  {
   "cell_type": "code",
   "execution_count": 13,
   "metadata": {},
   "outputs": [
    {
     "name": "stdout",
     "output_type": "stream",
     "text": [
      "{\n",
      "    \"Title\": \"The Fairy King of Ar\",\n",
      "    \"Year\": \"1998\",\n",
      "    \"Rated\": \"N/A\",\n",
      "    \"Released\": \"14 May 1998\",\n",
      "    \"Runtime\": \"93 min\",\n",
      "    \"Genre\": \"Adventure, Family, Fantasy\",\n",
      "    \"Director\": \"Paul Matthews\",\n",
      "    \"Writer\": \"Christopher Atkins, Paul Matthews\",\n",
      "    \"Actors\": \"Corbin Bernsen, Glynis Barber, Jameson Baltes, Brittney Bomann\",\n",
      "    \"Plot\": \"Since as far back as Kyle and Evie Preston can remember, their grandmother told fantastical tales about elves who had been trapped underground by giants for thousands of years. Now ...\",\n",
      "    \"Language\": \"English\",\n",
      "    \"Country\": \"UK\",\n",
      "    \"Awards\": \"N/A\",\n",
      "    \"Poster\": \"https://images-na.ssl-images-amazon.com/images/M/MV5BMTU0NzA2MzM4Nl5BMl5BanBnXkFtZTcwODI5NzQyMQ@@._V1_SX300.jpg\",\n",
      "    \"Ratings\": [\n",
      "        {\n",
      "            \"Source\": \"Internet Movie Database\",\n",
      "            \"Value\": \"5.0/10\"\n",
      "        }\n",
      "    ],\n",
      "    \"Metascore\": \"N/A\",\n",
      "    \"imdbRating\": \"5.0\",\n",
      "    \"imdbVotes\": \"272\",\n",
      "    \"imdbID\": \"tt0139060\",\n",
      "    \"Type\": \"movie\",\n",
      "    \"DVD\": \"N/A\",\n",
      "    \"BoxOffice\": \"N/A\",\n",
      "    \"Production\": \"N/A\",\n",
      "    \"Website\": \"N/A\",\n",
      "    \"Response\": \"True\"\n",
      "}\n"
     ]
    }
   ],
   "source": [
    "# Nonsense film that doesn't exist\n",
    "response_json = get_movie_data('ar')\n",
    "print(json.dumps(response_json, indent=4))"
   ]
  }
 ],
 "metadata": {
  "kernelspec": {
   "display_name": "Python 3",
   "language": "python",
   "name": "python3"
  },
  "language_info": {
   "codemirror_mode": {
    "name": "ipython",
    "version": 3
   },
   "file_extension": ".py",
   "mimetype": "text/x-python",
   "name": "python",
   "nbconvert_exporter": "python",
   "pygments_lexer": "ipython3",
   "version": "3.6.5"
  }
 },
 "nbformat": 4,
 "nbformat_minor": 2
}
