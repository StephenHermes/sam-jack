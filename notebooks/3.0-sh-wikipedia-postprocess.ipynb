{
 "cells": [
  {
   "cell_type": "markdown",
   "metadata": {},
   "source": [
    "# Wikipedia Post-Process\n",
    "\n",
    "By crawling Wikipedia we were able to obtain a bunch of tables having similar, but not identical, schema. We want to put everything into a master schema so that we can safely and consistently work with these mined data."
   ]
  },
  {
   "cell_type": "code",
   "execution_count": 1,
   "metadata": {},
   "outputs": [
    {
     "data": {
      "text/plain": [
       "True"
      ]
     },
     "execution_count": 1,
     "metadata": {},
     "output_type": "execute_result"
    }
   ],
   "source": [
    "import os\n",
    "import glob\n",
    "import re\n",
    "\n",
    "import pandas as pd\n",
    "\n",
    "from dotenv import load_dotenv, find_dotenv\n",
    "#find .env automagically by walking up directories until it's found\n",
    "dotenv_path = find_dotenv()\n",
    "# load up the entries as environment variables\n",
    "load_dotenv(dotenv_path)"
   ]
  },
  {
   "cell_type": "code",
   "execution_count": 2,
   "metadata": {},
   "outputs": [],
   "source": [
    "data_dir = '../data/raw/wikipedia-movies-20181021/'\n",
    "\n",
    "files = glob.glob(data_dir + 'movies-*.csv')\n",
    "# 118 files total\n",
    "tables = dict((f, pd.read_csv(f)) for f in files)\n",
    "pattern = r'movies-(\\d{4}).csv'\n",
    "# Want to reference year\n",
    "tables = dict(\n",
    "    (int(re.findall(pattern, k)[0]), v) \n",
    "    for k, v in tables.items()\n",
    ")\n",
    "# There are some columns that differ only in having caps vs no caps\n",
    "# or missing a white space another has\n",
    "for year, t in tables.items():\n",
    "    t['year'] = year    \n",
    "    t.columns = [c.lower().replace(' ', '') for c in t.columns]"
   ]
  },
  {
   "cell_type": "code",
   "execution_count": 3,
   "metadata": {},
   "outputs": [
    {
     "name": "stdout",
     "output_type": "stream",
     "text": [
      "29004\n"
     ]
    }
   ],
   "source": [
    "# How much data do we have?\n",
    "count = 0\n",
    "for t in tables.values():\n",
    "    count += len(t)\n",
    "print(count)"
   ]
  },
  {
   "cell_type": "code",
   "execution_count": 4,
   "metadata": {},
   "outputs": [
    {
     "data": {
      "text/html": [
       "<div>\n",
       "<style scoped>\n",
       "    .dataframe tbody tr th:only-of-type {\n",
       "        vertical-align: middle;\n",
       "    }\n",
       "\n",
       "    .dataframe tbody tr th {\n",
       "        vertical-align: top;\n",
       "    }\n",
       "\n",
       "    .dataframe thead th {\n",
       "        text-align: right;\n",
       "    }\n",
       "</style>\n",
       "<table border=\"1\" class=\"dataframe\">\n",
       "  <thead>\n",
       "    <tr style=\"text-align: right;\">\n",
       "      <th></th>\n",
       "      <th>column_name</th>\n",
       "      <th>count</th>\n",
       "    </tr>\n",
       "  </thead>\n",
       "  <tbody>\n",
       "    <tr>\n",
       "      <th>0</th>\n",
       "      <td>director</td>\n",
       "      <td>117</td>\n",
       "    </tr>\n",
       "    <tr>\n",
       "      <th>1</th>\n",
       "      <td>castandcrew</td>\n",
       "      <td>1</td>\n",
       "    </tr>\n",
       "    <tr>\n",
       "      <th>2</th>\n",
       "      <td>releasedate</td>\n",
       "      <td>2</td>\n",
       "    </tr>\n",
       "    <tr>\n",
       "      <th>3</th>\n",
       "      <td>ref.</td>\n",
       "      <td>4</td>\n",
       "    </tr>\n",
       "    <tr>\n",
       "      <th>4</th>\n",
       "      <td>note</td>\n",
       "      <td>34</td>\n",
       "    </tr>\n",
       "    <tr>\n",
       "      <th>5</th>\n",
       "      <td>title</td>\n",
       "      <td>118</td>\n",
       "    </tr>\n",
       "    <tr>\n",
       "      <th>6</th>\n",
       "      <td>cast</td>\n",
       "      <td>90</td>\n",
       "    </tr>\n",
       "    <tr>\n",
       "      <th>7</th>\n",
       "      <td>notes</td>\n",
       "      <td>72</td>\n",
       "    </tr>\n",
       "    <tr>\n",
       "      <th>8</th>\n",
       "      <td>studio/notes</td>\n",
       "      <td>1</td>\n",
       "    </tr>\n",
       "    <tr>\n",
       "      <th>9</th>\n",
       "      <td>studio</td>\n",
       "      <td>1</td>\n",
       "    </tr>\n",
       "    <tr>\n",
       "      <th>10</th>\n",
       "      <td>genre</td>\n",
       "      <td>111</td>\n",
       "    </tr>\n",
       "    <tr>\n",
       "      <th>11</th>\n",
       "      <td>cast(subjectofdocumentary)</td>\n",
       "      <td>15</td>\n",
       "    </tr>\n",
       "    <tr>\n",
       "      <th>12</th>\n",
       "      <td>unnamed:4</td>\n",
       "      <td>7</td>\n",
       "    </tr>\n",
       "    <tr>\n",
       "      <th>13</th>\n",
       "      <td>opening__0</td>\n",
       "      <td>4</td>\n",
       "    </tr>\n",
       "    <tr>\n",
       "      <th>14</th>\n",
       "      <td>opening__1</td>\n",
       "      <td>4</td>\n",
       "    </tr>\n",
       "    <tr>\n",
       "      <th>15</th>\n",
       "      <td>budget/boxoffice$million</td>\n",
       "      <td>1</td>\n",
       "    </tr>\n",
       "    <tr>\n",
       "      <th>16</th>\n",
       "      <td>notes/studio</td>\n",
       "      <td>3</td>\n",
       "    </tr>\n",
       "    <tr>\n",
       "      <th>17</th>\n",
       "      <td>genre/note</td>\n",
       "      <td>7</td>\n",
       "    </tr>\n",
       "    <tr>\n",
       "      <th>18</th>\n",
       "      <td>year</td>\n",
       "      <td>118</td>\n",
       "    </tr>\n",
       "    <tr>\n",
       "      <th>19</th>\n",
       "      <td>featuredcast</td>\n",
       "      <td>12</td>\n",
       "    </tr>\n",
       "  </tbody>\n",
       "</table>\n",
       "</div>"
      ],
      "text/plain": [
       "                   column_name  count\n",
       "0                     director    117\n",
       "1                  castandcrew      1\n",
       "2                  releasedate      2\n",
       "3                         ref.      4\n",
       "4                         note     34\n",
       "5                        title    118\n",
       "6                         cast     90\n",
       "7                        notes     72\n",
       "8                 studio/notes      1\n",
       "9                       studio      1\n",
       "10                       genre    111\n",
       "11  cast(subjectofdocumentary)     15\n",
       "12                   unnamed:4      7\n",
       "13                  opening__0      4\n",
       "14                  opening__1      4\n",
       "15    budget/boxoffice$million      1\n",
       "16                notes/studio      3\n",
       "17                  genre/note      7\n",
       "18                        year    118\n",
       "19                featuredcast     12"
      ]
     },
     "execution_count": 4,
     "metadata": {},
     "output_type": "execute_result"
    }
   ],
   "source": [
    "# Let's look what we have\n",
    "columns = set(c.lower() for t in tables.values() for c in t.columns)\n",
    "metadata = pd.DataFrame(index=tables.keys())\n",
    "for col in columns:\n",
    "    for year in metadata.index:\n",
    "        table_cols = [c.lower() for c in tables[year].columns]\n",
    "        metadata.loc[year, col] = (col in table_cols)\n",
    "\n",
    "summary = metadata.sum()\n",
    "summary = summary.reset_index()\n",
    "summary.columns = ['column_name', 'count']\n",
    "summary"
   ]
  },
  {
   "cell_type": "code",
   "execution_count": 5,
   "metadata": {},
   "outputs": [
    {
     "name": "stdout",
     "output_type": "stream",
     "text": [
      "total tables with note: 117\n",
      "total tables with genre: 118\n",
      "total tables with cast: 118\n"
     ]
    }
   ],
   "source": [
    "def count_key(key):\n",
    "    n = summary.loc[\n",
    "        summary['column_name'].str.contains(key), \n",
    "        'count'\n",
    "    ].sum()\n",
    "    print(f'total tables with {key}:', n)\n",
    "\n",
    "count_key('note')\n",
    "count_key('genre')\n",
    "count_key('cast')"
   ]
  },
  {
   "cell_type": "markdown",
   "metadata": {},
   "source": [
    "All but one table has a note column (probable the one with an 'unnamed:4' column).\n",
    "All tables have a genere, and all tables have a cast.\n",
    "We have 6 tables that have release date info, beyond just the year.\n",
    "All of these we will already get with the OMDb API, but for fun let's be completists get as much info as we can from these tables."
   ]
  },
  {
   "cell_type": "code",
   "execution_count": 6,
   "metadata": {},
   "outputs": [
    {
     "data": {
      "text/plain": [
       "29004"
      ]
     },
     "execution_count": 6,
     "metadata": {},
     "output_type": "execute_result"
    }
   ],
   "source": [
    "film_list = pd.concat([df[['year', 'title']] for df in tables.values()])\n",
    "# Did we get everyone?\n",
    "len(film_list)\n",
    "# Yes."
   ]
  },
  {
   "cell_type": "code",
   "execution_count": 7,
   "metadata": {},
   "outputs": [],
   "source": [
    "# The basic tier for the OMDb patrion page gives 100K requests a day, for $1 per month donation.\n",
    "# For $5 per month also get 250K requests and access to the poster API."
   ]
  }
 ],
 "metadata": {
  "kernelspec": {
   "display_name": "Python 3",
   "language": "python",
   "name": "python3"
  },
  "language_info": {
   "codemirror_mode": {
    "name": "ipython",
    "version": 3
   },
   "file_extension": ".py",
   "mimetype": "text/x-python",
   "name": "python",
   "nbconvert_exporter": "python",
   "pygments_lexer": "ipython3",
   "version": "3.6.5"
  }
 },
 "nbformat": 4,
 "nbformat_minor": 2
}
