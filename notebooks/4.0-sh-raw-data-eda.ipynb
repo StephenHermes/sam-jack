{
 "cells": [
  {
   "cell_type": "markdown",
   "metadata": {},
   "source": [
    "# Exploratory Data Analysis\n",
    "\n",
    "Now that we have our raw data, the next main goal is getting the data in a form that can be ingested by a model. For this we will need three things:\n",
    "1. **Good, clean data.** This is the biggest hurdle. Once we've processed the raw data into a form we can actually make use of, we will want to explore its quality. Some things to look out for are: typical length of a summary, how many null summaries or cast lists we have, what proportion have Samuel L. Jackson in the cast, prevalence and occurrence of missing data, etc.\n",
    "2. **Labels.** In our case, we are looking to classify films as either \"staring\" Samuel L. Jackson or not. The working definition of \"staring\" will be that he is included in the cast. This is clearly a coarse definition: the character John Arnold (of \"hold on to your butts\" fame) portrayed by SLJ is hardly the main character of Jurassic Park.\n",
    "3. **Features.** For now we will just do minor cleanup of the summaries from OMDb, if anything. The hardcore numeric feature engineering we will save for the machine learning step, so that we can experiment with different numerical enocoding techniques (bag-of-words vs word2vec vs...).\n",
    "\n",
    "\n",
    "## 1. Data cleaning"
   ]
  },
  {
   "cell_type": "code",
   "execution_count": 1,
   "metadata": {},
   "outputs": [
    {
     "data": {
      "text/plain": [
       "True"
      ]
     },
     "execution_count": 1,
     "metadata": {},
     "output_type": "execute_result"
    }
   ],
   "source": [
    "import glob\n",
    "import re\n",
    "\n",
    "import numpy as np\n",
    "import pandas as pd\n",
    "from matplotlib import pyplot as plt\n",
    "\n",
    "# Canonical cookie cutter start...\n",
    "from dotenv import load_dotenv, find_dotenv\n",
    "#find .env automagically by walking up directories until it's found\n",
    "dotenv_path = find_dotenv()\n",
    "# load up the entries as environment variables\n",
    "load_dotenv(dotenv_path)"
   ]
  },
  {
   "cell_type": "code",
   "execution_count": 10,
   "metadata": {},
   "outputs": [],
   "source": [
    "# files = glob.glob('../data/raw/omdb-movies-20181222/*.csv')\n",
    "files = glob.glob('../data/raw/omdb-movies-20190122/*.csv')\n",
    "dfs = [pd.read_csv(f) for f in files]\n",
    "data_raw = pd.concat(dfs)"
   ]
  },
  {
   "cell_type": "code",
   "execution_count": 11,
   "metadata": {},
   "outputs": [
    {
     "data": {
      "text/html": [
       "<div>\n",
       "<style scoped>\n",
       "    .dataframe tbody tr th:only-of-type {\n",
       "        vertical-align: middle;\n",
       "    }\n",
       "\n",
       "    .dataframe tbody tr th {\n",
       "        vertical-align: top;\n",
       "    }\n",
       "\n",
       "    .dataframe thead th {\n",
       "        text-align: right;\n",
       "    }\n",
       "</style>\n",
       "<table border=\"1\" class=\"dataframe\">\n",
       "  <thead>\n",
       "    <tr style=\"text-align: right;\">\n",
       "      <th></th>\n",
       "      <th>imdbid</th>\n",
       "      <th>title</th>\n",
       "      <th>year</th>\n",
       "      <th>released</th>\n",
       "      <th>genre</th>\n",
       "      <th>actors</th>\n",
       "      <th>plot</th>\n",
       "      <th>response</th>\n",
       "      <th>year_mismatch</th>\n",
       "    </tr>\n",
       "  </thead>\n",
       "  <tbody>\n",
       "    <tr>\n",
       "      <th>93</th>\n",
       "      <td>tt0113089</td>\n",
       "      <td>Fluke</td>\n",
       "      <td>1995</td>\n",
       "      <td>02 Jun 1995</td>\n",
       "      <td>Drama, Family, Fantasy</td>\n",
       "      <td>Samuel L. Jackson, Matthew Modine, Nancy Travi...</td>\n",
       "      <td>After a man dies in a car crash, he is reincar...</td>\n",
       "      <td>True</td>\n",
       "      <td>True</td>\n",
       "    </tr>\n",
       "    <tr>\n",
       "      <th>158</th>\n",
       "      <td>tt0113552</td>\n",
       "      <td>Kiss of Death</td>\n",
       "      <td>1995</td>\n",
       "      <td>21 Apr 1995</td>\n",
       "      <td>Action, Crime, Thriller</td>\n",
       "      <td>David Caruso, Samuel L. Jackson, Nicolas Cage,...</td>\n",
       "      <td>Jimmy Kilmartin's an ex-con who's trying to go...</td>\n",
       "      <td>True</td>\n",
       "      <td>True</td>\n",
       "    </tr>\n",
       "    <tr>\n",
       "      <th>102</th>\n",
       "      <td>tt0119080</td>\n",
       "      <td>Eve's Bayou</td>\n",
       "      <td>1997</td>\n",
       "      <td>07 Nov 1997</td>\n",
       "      <td>Drama</td>\n",
       "      <td>Jurnee Smollett-Bell, Meagan Good, Lynn Whitfi...</td>\n",
       "      <td>The story is set in 1962 Louisiana. The Batist...</td>\n",
       "      <td>True</td>\n",
       "      <td>True</td>\n",
       "    </tr>\n",
       "    <tr>\n",
       "      <th>145</th>\n",
       "      <td>tt0119256</td>\n",
       "      <td>Hard Eight</td>\n",
       "      <td>1996</td>\n",
       "      <td>28 Feb 1997</td>\n",
       "      <td>Crime, Drama</td>\n",
       "      <td>Philip Baker Hall, John C. Reilly, Gwyneth Pal...</td>\n",
       "      <td>John has lost all his money. He sits outside a...</td>\n",
       "      <td>True</td>\n",
       "      <td>False</td>\n",
       "    </tr>\n",
       "    <tr>\n",
       "      <th>170</th>\n",
       "      <td>tt0119396</td>\n",
       "      <td>Jackie Brown</td>\n",
       "      <td>1997</td>\n",
       "      <td>25 Dec 1997</td>\n",
       "      <td>Crime, Drama, Thriller</td>\n",
       "      <td>Pam Grier, Samuel L. Jackson, Robert Forster, ...</td>\n",
       "      <td>The middle-aged stewardess Jackie Brown smuggl...</td>\n",
       "      <td>True</td>\n",
       "      <td>True</td>\n",
       "    </tr>\n",
       "    <tr>\n",
       "      <th>248</th>\n",
       "      <td>tt0118531</td>\n",
       "      <td>One Eight Seven</td>\n",
       "      <td>1997</td>\n",
       "      <td>30 Jul 1997</td>\n",
       "      <td>Drama, Thriller</td>\n",
       "      <td>Samuel L. Jackson, John Heard, Kelly Rowan, Cl...</td>\n",
       "      <td>High school teacher Trevor Garfield is stabbed...</td>\n",
       "      <td>True</td>\n",
       "      <td>True</td>\n",
       "    </tr>\n",
       "    <tr>\n",
       "      <th>154</th>\n",
       "      <td>tt0116448</td>\n",
       "      <td>The Great White Hype</td>\n",
       "      <td>1996</td>\n",
       "      <td>03 May 1996</td>\n",
       "      <td>Comedy, Sport</td>\n",
       "      <td>Samuel L. Jackson, Jeff Goldblum, Peter Berg, ...</td>\n",
       "      <td>When the champ's promoter, Reverend Sultan, de...</td>\n",
       "      <td>True</td>\n",
       "      <td>True</td>\n",
       "    </tr>\n",
       "    <tr>\n",
       "      <th>157</th>\n",
       "      <td>tt0119256</td>\n",
       "      <td>Hard Eight</td>\n",
       "      <td>1996</td>\n",
       "      <td>28 Feb 1997</td>\n",
       "      <td>Crime, Drama</td>\n",
       "      <td>Philip Baker Hall, John C. Reilly, Gwyneth Pal...</td>\n",
       "      <td>John has lost all his money. He sits outside a...</td>\n",
       "      <td>True</td>\n",
       "      <td>True</td>\n",
       "    </tr>\n",
       "    <tr>\n",
       "      <th>214</th>\n",
       "      <td>tt0116908</td>\n",
       "      <td>The Long Kiss Goodnight</td>\n",
       "      <td>1996</td>\n",
       "      <td>11 Oct 1996</td>\n",
       "      <td>Action, Crime, Drama, Mystery, Thriller</td>\n",
       "      <td>Geena Davis, Samuel L. Jackson, Yvonne Zima, C...</td>\n",
       "      <td>Samantha Caine, suburban homemaker, is the ide...</td>\n",
       "      <td>True</td>\n",
       "      <td>True</td>\n",
       "    </tr>\n",
       "    <tr>\n",
       "      <th>326</th>\n",
       "      <td>tt0117913</td>\n",
       "      <td>A Time to Kill</td>\n",
       "      <td>1996</td>\n",
       "      <td>24 Jul 1996</td>\n",
       "      <td>Crime, Drama, Thriller</td>\n",
       "      <td>Matthew McConaughey, Sandra Bullock, Samuel L....</td>\n",
       "      <td>In Canton, Mississippi, 10-year-old Tonya Hail...</td>\n",
       "      <td>True</td>\n",
       "      <td>True</td>\n",
       "    </tr>\n",
       "  </tbody>\n",
       "</table>\n",
       "</div>"
      ],
      "text/plain": [
       "        imdbid                    title  year     released  \\\n",
       "93   tt0113089                    Fluke  1995  02 Jun 1995   \n",
       "158  tt0113552            Kiss of Death  1995  21 Apr 1995   \n",
       "102  tt0119080              Eve's Bayou  1997  07 Nov 1997   \n",
       "145  tt0119256               Hard Eight  1996  28 Feb 1997   \n",
       "170  tt0119396             Jackie Brown  1997  25 Dec 1997   \n",
       "248  tt0118531          One Eight Seven  1997  30 Jul 1997   \n",
       "154  tt0116448     The Great White Hype  1996  03 May 1996   \n",
       "157  tt0119256               Hard Eight  1996  28 Feb 1997   \n",
       "214  tt0116908  The Long Kiss Goodnight  1996  11 Oct 1996   \n",
       "326  tt0117913           A Time to Kill  1996  24 Jul 1996   \n",
       "\n",
       "                                       genre  \\\n",
       "93                    Drama, Family, Fantasy   \n",
       "158                  Action, Crime, Thriller   \n",
       "102                                    Drama   \n",
       "145                             Crime, Drama   \n",
       "170                   Crime, Drama, Thriller   \n",
       "248                          Drama, Thriller   \n",
       "154                            Comedy, Sport   \n",
       "157                             Crime, Drama   \n",
       "214  Action, Crime, Drama, Mystery, Thriller   \n",
       "326                   Crime, Drama, Thriller   \n",
       "\n",
       "                                                actors  \\\n",
       "93   Samuel L. Jackson, Matthew Modine, Nancy Travi...   \n",
       "158  David Caruso, Samuel L. Jackson, Nicolas Cage,...   \n",
       "102  Jurnee Smollett-Bell, Meagan Good, Lynn Whitfi...   \n",
       "145  Philip Baker Hall, John C. Reilly, Gwyneth Pal...   \n",
       "170  Pam Grier, Samuel L. Jackson, Robert Forster, ...   \n",
       "248  Samuel L. Jackson, John Heard, Kelly Rowan, Cl...   \n",
       "154  Samuel L. Jackson, Jeff Goldblum, Peter Berg, ...   \n",
       "157  Philip Baker Hall, John C. Reilly, Gwyneth Pal...   \n",
       "214  Geena Davis, Samuel L. Jackson, Yvonne Zima, C...   \n",
       "326  Matthew McConaughey, Sandra Bullock, Samuel L....   \n",
       "\n",
       "                                                  plot  response  \\\n",
       "93   After a man dies in a car crash, he is reincar...      True   \n",
       "158  Jimmy Kilmartin's an ex-con who's trying to go...      True   \n",
       "102  The story is set in 1962 Louisiana. The Batist...      True   \n",
       "145  John has lost all his money. He sits outside a...      True   \n",
       "170  The middle-aged stewardess Jackie Brown smuggl...      True   \n",
       "248  High school teacher Trevor Garfield is stabbed...      True   \n",
       "154  When the champ's promoter, Reverend Sultan, de...      True   \n",
       "157  John has lost all his money. He sits outside a...      True   \n",
       "214  Samantha Caine, suburban homemaker, is the ide...      True   \n",
       "326  In Canton, Mississippi, 10-year-old Tonya Hail...      True   \n",
       "\n",
       "     year_mismatch  \n",
       "93            True  \n",
       "158           True  \n",
       "102           True  \n",
       "145          False  \n",
       "170           True  \n",
       "248           True  \n",
       "154           True  \n",
       "157           True  \n",
       "214           True  \n",
       "326           True  "
      ]
     },
     "execution_count": 11,
     "metadata": {},
     "output_type": "execute_result"
    }
   ],
   "source": [
    "# Just looking at some rows...\n",
    "data_raw[data_raw['actors'].fillna('').str.contains('Samuel L. Jackson')].tail(10)"
   ]
  },
  {
   "cell_type": "markdown",
   "metadata": {},
   "source": [
    "A few things jump out from just looking at a few examples:\n",
    "1. We recorded some flags while collecting data: `response` flags if the OMDb api returned a response or not, and `year_mismatch` flags if there was a mismatch between the OMDb year of a film and the Wikipedia year.\n",
    "2. There appear to be a few repeated films (e.g., \"Hard Eight\"). Closer inspection shows that the rows differ in terms of the `year_mismatch` flag. How did this happen?\n",
    "3. Some rows do not have an `imdbdid`. If my memory serves me correctly, this means that we pulled a film name from wikipedia but did not find results on the OMDb."
   ]
  },
  {
   "cell_type": "code",
   "execution_count": 12,
   "metadata": {
    "scrolled": false
   },
   "outputs": [
    {
     "data": {
      "text/plain": [
       "581"
      ]
     },
     "execution_count": 12,
     "metadata": {},
     "output_type": "execute_result"
    }
   ],
   "source": [
    "# One's with False `response` tend to have punctuation...\n",
    "missed_titles = data_raw.loc[~data_raw['response'], 'title'].tolist()\n",
    "# Refactoring the data pulling mechanism only got us 10 more films\n",
    "len(missed_titles)"
   ]
  },
  {
   "cell_type": "markdown",
   "metadata": {},
   "source": [
    "By searching OMDb for these titles it is clear there are a few issues:\n",
    "1. Minor differences in name e.g. \"Sergant Deadhead\" vs \"Sergeant Dead Head\"\n",
    "2. Stylization not used by OMDb e.g. \"Rx Murder\" vs. \"Prescription Murder\"\n",
    "3. Typos: \"M\"A\\*S\\*H\" v.s. \"M\\*A\\*S\\*H\"\n",
    "4. Subtitles: \"Behemoth, the Sea Monster\" vs. \"Behemoth\"\n",
    "5. Noncanonical information: \"\\\\$ aka Dollars\" vs. \"\\\\$\"\n",
    "\n",
    "To deal with these, we will:\n",
    "1. Search for the original title\n",
    "2. If not found, remove non-alpha-numeric characters from the title and try again"
   ]
  },
  {
   "cell_type": "code",
   "execution_count": 15,
   "metadata": {},
   "outputs": [
    {
     "data": {
      "text/plain": [
       "['Rx Murder',\n",
       " 'The Seventh Voyage of Sinbad',\n",
       " 'The Son of Robin Hood',\n",
       " 'This Angry Age',\n",
       " 'Gassss',\n",
       " 'Monty Walsh',\n",
       " 'Nams Angels',\n",
       " 'R P M',\n",
       " 'City Under the Sea',\n",
       " 'Die Monster Die',\n",
       " 'Faster Pussycat Kill Kill',\n",
       " 'Sergeant Deadhead',\n",
       " 'aka Dollars',\n",
       " 'Bless the Beasts and Children',\n",
       " 'Cains Cutthroats',\n",
       " 'A Town Called Bastard',\n",
       " 'Who Killed Mary Whats Er Name',\n",
       " 'Behemoth the Sea Monster',\n",
       " 'Crime and Punishment USA',\n",
       " 'Desert Desperadoes']"
      ]
     },
     "execution_count": 15,
     "metadata": {},
     "output_type": "execute_result"
    }
   ],
   "source": [
    "pattern = re.compile(r'[^a-zA-Z0-9 ]+')\n",
    "[pattern.sub('', t) for t in missed_titles[:20]]"
   ]
  },
  {
   "cell_type": "code",
   "execution_count": null,
   "metadata": {},
   "outputs": [],
   "source": []
  }
 ],
 "metadata": {
  "kernelspec": {
   "display_name": "Python 3",
   "language": "python",
   "name": "python3"
  },
  "language_info": {
   "codemirror_mode": {
    "name": "ipython",
    "version": 3
   },
   "file_extension": ".py",
   "mimetype": "text/x-python",
   "name": "python",
   "nbconvert_exporter": "python",
   "pygments_lexer": "ipython3",
   "version": "3.6.5"
  }
 },
 "nbformat": 4,
 "nbformat_minor": 2
}
